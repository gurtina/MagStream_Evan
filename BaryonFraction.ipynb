{
 "cells": [
  {
   "cell_type": "code",
   "execution_count": 1,
   "metadata": {},
   "outputs": [],
   "source": [
    "import numpy as np"
   ]
  },
  {
   "cell_type": "markdown",
   "metadata": {},
   "source": [
    "Computing the baryon fraction for the SMC if the stream is removed from it.\n",
    "To determine how much entrainment is needed in Evan's sims. \n",
    "Also provides an estimate for how much the stream velocities must be slowed down by. \n",
    "\n",
    "MHI outside the clouds = 4.87e8 Msun (Bruens 2005)\n",
    "\n",
    "https://ui.adsabs.harvard.edu/abs/2005A%26A...432...45B/abstract\n",
    "![alt text](Bruens2005.png \"Bruens\")"
   ]
  },
  {
   "cell_type": "code",
   "execution_count": 4,
   "metadata": {},
   "outputs": [
    {
     "data": {
      "text/plain": [
       "6.02"
      ]
     },
     "execution_count": 4,
     "metadata": {},
     "output_type": "execute_result"
    }
   ],
   "source": [
    "MstarS = 3e8 # Stellar mass of the SMC (Stanimirovic 2004 ; vdM 2007 see Besla 2012 )\n",
    "MHIS = 4.02e8 # Current HI mass of the SMC (Bruens 2005)\n",
    "\n",
    "MBarS = MstarS + MHIS # Current Baryon mass of the SMC\n",
    "MBarS/1e8"
   ]
  },
  {
   "cell_type": "code",
   "execution_count": 5,
   "metadata": {},
   "outputs": [],
   "source": [
    "MhaloS = 2e10 # halo mass adopted in Besla 2012 for the SMC "
   ]
  },
  {
   "cell_type": "code",
   "execution_count": 7,
   "metadata": {},
   "outputs": [
    {
     "data": {
      "text/plain": [
       "0.0301"
      ]
     },
     "execution_count": 7,
     "metadata": {},
     "output_type": "execute_result"
    }
   ],
   "source": [
    "#current Baryon fraction \n",
    "# expected baryon fraction of disk to halo is 3-5%, See Besla 2015 proceedings \n",
    "MBarS/MhaloS"
   ]
  },
  {
   "cell_type": "code",
   "execution_count": 9,
   "metadata": {},
   "outputs": [],
   "source": [
    " # Mass in the Magellanic System , outside the clouds\n",
    "MHI_tot = 4.87e8 # assuming 55 kpc distance (d/55)^2 scaling "
   ]
  },
  {
   "cell_type": "code",
   "execution_count": 10,
   "metadata": {},
   "outputs": [
    {
     "data": {
      "text/plain": [
       "0.05445"
      ]
     },
     "execution_count": 10,
     "metadata": {},
     "output_type": "execute_result"
    }
   ],
   "source": [
    "# New baryon fraction if all the neutral gas came from the SMC \n",
    "# assumiing 55 kpc for entire system  \n",
    "(MBarS + MHI_tot)/MhaloS\n",
    "\n",
    "# still ok "
   ]
  },
  {
   "cell_type": "code",
   "execution_count": 18,
   "metadata": {},
   "outputs": [],
   "source": [
    "# Mass in Magellanic Stream specifically.  From Bruen 2005 \n",
    "MHI_MS = (4.3+4.3+3+0.9+5.5)*1e7 # assuming 55 kpc, including the interface rgion\n",
    "MHI_totNoMS = MHI_tot-MHI_MS # remaining baryon mass ignoring the MS. at 55 kpc\n",
    "\n",
    "# assuming 100 kpc for stream\n",
    "MHI_MS100 =  MHI_MS*(100/55)**2 # assuming 100 kpc for the stream distance\n",
    "MHI_tot100 = MHI_MS100 + MHI_totNoMS # total HI outside the clouds including stream being at 100 kpc"
   ]
  },
  {
   "cell_type": "code",
   "execution_count": 19,
   "metadata": {},
   "outputs": [
    {
     "data": {
      "text/plain": [
       "0.07520206611570247"
      ]
     },
     "execution_count": 19,
     "metadata": {},
     "output_type": "execute_result"
    }
   ],
   "source": [
    "# New Baryon fraction if all the neutral gas came from the SMC \n",
    "\n",
    "# assuming 100 kpc for the MS\n",
    "(MBarS + MHI_tot100)/MhaloS"
   ]
  },
  {
   "cell_type": "code",
   "execution_count": 20,
   "metadata": {},
   "outputs": [],
   "source": [
    "# Now considering the IONIZED Component \n",
    "\n",
    "# From Fox 2014  https://iopscience.iop.org/article/10.1088/0004-637X/787/2/147/pdf\n",
    "# N(H ii)total/N(H i) is 6.4, \n",
    "# where N(H ii)total = N(H ii)low+N(H ii)Civ. \n",
    "#If we ignore the high-ion H ii and just consider the low-ion H ii, which is\n",
    "# better constrained, the median value of N(H ii)low/N(H i) is 5.4,\n",
    "\n",
    "# but above doesn't include hot compononent\n",
    "\n",
    "#We can calculate the contribution of the MS to M(MSys) by reevaluating Equation (4) \n",
    "#without the contributions of the MB, LA, CHVC, and LMC Halo.\n",
    "# Using M(H i)MS = 2.74 × 108 M\u0006 (including the Interface Region; Bruns et al. ¨ 2005),\n",
    "# A(H i)MS ≈ 0.5    A(H i)MSys ≈1350 deg2, and A(H ii)MS ≈ 5500 deg2 (Figure 1(b)),\n",
    "# we derive M(MS) ≈ 1.0 × 109 (d/5 kpc)2 M\u0006, or approximately half of M(MSys)\n",
    "\n",
    "\n",
    "# They estimate total baryon budget 2e9 (d/55)^2 for entire system"
   ]
  },
  {
   "cell_type": "code",
   "execution_count": 25,
   "metadata": {},
   "outputs": [
    {
     "data": {
      "text/plain": [
       "3.305785123966942"
      ]
     },
     "execution_count": 25,
     "metadata": {},
     "output_type": "execute_result"
    }
   ],
   "source": [
    "# So total mass \n",
    "MS_HI_ion = 1e9 # assuming 55 kpc\n",
    "MS_HI_ion100 = 1e9*(100/55)**2\n",
    "\n",
    "MS_HI_ion100/1e9"
   ]
  },
  {
   "cell_type": "code",
   "execution_count": 26,
   "metadata": {},
   "outputs": [
    {
     "data": {
      "text/plain": [
       "0.1953892561983471"
      ]
     },
     "execution_count": 26,
     "metadata": {},
     "output_type": "execute_result"
    }
   ],
   "source": [
    "# Sooo Baryon fraction \n",
    "\n",
    "(MBarS + MS_HI_ion100)/MhaloS\n",
    "\n",
    "# AAAAND THIS IS THE PROBLEM  (assuming Besla 2012 SMC models. Note that if you increase thehalo mass the dynamical friction will be higher. )"
   ]
  },
  {
   "cell_type": "code",
   "execution_count": 32,
   "metadata": {},
   "outputs": [
    {
     "data": {
      "text/plain": [
       "0.06623364616893122"
      ]
     },
     "execution_count": 32,
     "metadata": {},
     "output_type": "execute_result"
    }
   ],
   "source": [
    "\n",
    "# Now if we want this baryon fraction to be any where near resonable. \n",
    "\n",
    "# First consider a higher infall halo mass\n",
    "# Fro MOster 2012 abundance matching (courtesy fo Katie) \n",
    "# 5.9e10 and 1sigma are 4.15e10 - 8.19e10 Msun  \n",
    "\n",
    "\n",
    "# ******** this assumes z = 0 ,not sure if i need to consider when LMC captured SMC say 6 Gyr ago. \n",
    "\n",
    "MhaloShigh = 5.9e10\n",
    "\n",
    "(MBarS + MS_HI_ion100)/MhaloShigh\n",
    "\n",
    "# need to get this down to 3-5% "
   ]
  },
  {
   "cell_type": "code",
   "execution_count": 37,
   "metadata": {},
   "outputs": [
    {
     "name": "stdout",
     "output_type": "stream",
     "text": [
      "0.04884494592597244\n",
      "0.030214195665659457\n"
     ]
    }
   ],
   "source": [
    "# High SMC halo and 2x entrainment from the CGM \n",
    "print((MBarS + MS_HI_ion100/1.45)/MhaloShigh)\n",
    "print((MBarS + MS_HI_ion100/2.8)/MhaloShigh)\n",
    "\n",
    "# So need entrainiment of factor 1.45 to 2.8 "
   ]
  },
  {
   "cell_type": "code",
   "execution_count": 39,
   "metadata": {},
   "outputs": [
    {
     "data": {
      "text/plain": [
       "0.050761157024793384"
      ]
     },
     "execution_count": 39,
     "metadata": {},
     "output_type": "execute_result"
    }
   ],
   "source": [
    "# LOw SMC halo and x entrainment from the CGM  \n",
    "(MBarS + MS_HI_ion100/8)/MhaloS"
   ]
  },
  {
   "cell_type": "code",
   "execution_count": null,
   "metadata": {},
   "outputs": [],
   "source": [
    "# so need entrainment of: \n",
    "# Best case factor of 1.5-3\n",
    "# but could need factor of 8 or higher ... \n"
   ]
  },
  {
   "cell_type": "code",
   "execution_count": null,
   "metadata": {},
   "outputs": [],
   "source": [
    "# Decreasing velocity: \n",
    "\n",
    "# From Evan on FEb 2 2021\n",
    "#To first order, every time you entrain 100% of the initial mass,\n",
    "#you slow the velocities of the initial “clouds” by 50% (because momentum conservation),\n",
    "#so you can imagine if the stream now has 4x the mass that was ejected from the SMC,\n",
    "#and the SMC is moving at 200km/s relative to the halo,\n",
    "#the gas in the stream (at least the tail) should be moving at more like 50km/s.\n",
    "\n"
   ]
  },
  {
   "cell_type": "code",
   "execution_count": 55,
   "metadata": {},
   "outputs": [
    {
     "name": "stdout",
     "output_type": "stream",
     "text": [
      "0.125\n",
      "0.125\n"
     ]
    }
   ],
   "source": [
    "# So in best case the velocities decrease by:\n",
    "\n",
    "# entrainment of 1.5\n",
    "print(1/2)\n",
    "\n",
    "# entrainment of 3\n",
    "print(1/2/2/2)"
   ]
  },
  {
   "cell_type": "code",
   "execution_count": null,
   "metadata": {},
   "outputs": [],
   "source": []
  }
 ],
 "metadata": {
  "kernelspec": {
   "display_name": "Python 3",
   "language": "python",
   "name": "python3"
  },
  "language_info": {
   "codemirror_mode": {
    "name": "ipython",
    "version": 3
   },
   "file_extension": ".py",
   "mimetype": "text/x-python",
   "name": "python",
   "nbconvert_exporter": "python",
   "pygments_lexer": "ipython3",
   "version": "3.7.6"
  }
 },
 "nbformat": 4,
 "nbformat_minor": 4
}
